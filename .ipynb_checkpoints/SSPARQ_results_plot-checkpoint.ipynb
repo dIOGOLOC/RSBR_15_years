{
 "cells": [
  {
   "cell_type": "markdown",
   "id": "9ddd2020-48bf-4579-9825-945fcdffd0b9",
   "metadata": {},
   "source": [
    "# Importing python packages"
   ]
  },
  {
   "cell_type": "code",
   "execution_count": 10,
   "id": "8d40e58e-efc2-4947-b808-455c3a239acd",
   "metadata": {},
   "outputs": [],
   "source": [
    "import glob\n",
    "from multiprocessing import Pool\n",
    "import time\n",
    "from tqdm import tqdm"
   ]
  },
  {
   "cell_type": "markdown",
   "id": "d2adcd26-b9a9-45b2-ac84-3b7fa5358563",
   "metadata": {},
   "source": [
    "# Importing SSPARQ setup"
   ]
  },
  {
   "cell_type": "code",
   "execution_count": 11,
   "id": "aefd64e5-3508-40bc-aa87-25629f904c50",
   "metadata": {},
   "outputs": [],
   "source": [
    "from parameters_py.config import (\n",
    "\t\t\t\t\tWAVEFORM_DIR,CATALOG_FILE,XML_DIR,SSPARQ_OUTPUT,num_processes\n",
    "\t\t\t\t   )"
   ]
  },
  {
   "cell_type": "markdown",
   "id": "fd8131ee-42db-44ad-aedf-c11a8e44fe5d",
   "metadata": {},
   "source": [
    "# Importing SSPARQ functions"
   ]
  },
  {
   "cell_type": "code",
   "execution_count": 4,
   "id": "f48373d9-8612-453e-8541-b524a99126fa",
   "metadata": {},
   "outputs": [],
   "source": [
    "from src.analysis import (\n",
    "\t\t\t\t\taic_simple,find_orientation,Braunmiller_Pornsopin_algorithm,calculate_metrics\n",
    "\t\t\t\t   )\n",
    "\n",
    "from src.utils import (\n",
    "\t\t\t\t\tquakeml_to_dataframe,moment_tensor_to_nodal_planes,calculate_plunge,mecclass,adjust_baz_for_ZEN,rms,energy\n",
    "\t\t\t\t   )"
   ]
  },
  {
   "cell_type": "markdown",
   "id": "5c48e567-c721-45f0-ae93-c26b63ecec53",
   "metadata": {},
   "source": [
    "# Main program"
   ]
  },
  {
   "cell_type": "markdown",
   "id": "a2e1e276-206d-4f68-b364-b132d4e628f2",
   "metadata": {},
   "source": [
    "## Example I: One station"
   ]
  },
  {
   "cell_type": "markdown",
   "id": "d855a2d6-98ff-49a0-9553-797acc65979d",
   "metadata": {},
   "source": [
    "### Reading catalog"
   ]
  },
  {
   "cell_type": "code",
   "execution_count": 12,
   "id": "5816da9d-0a59-47f2-913b-920bfea570e1",
   "metadata": {},
   "outputs": [
    {
     "data": {
      "text/html": [
       "<div>\n",
       "<style scoped>\n",
       "    .dataframe tbody tr th:only-of-type {\n",
       "        vertical-align: middle;\n",
       "    }\n",
       "\n",
       "    .dataframe tbody tr th {\n",
       "        vertical-align: top;\n",
       "    }\n",
       "\n",
       "    .dataframe thead th {\n",
       "        text-align: right;\n",
       "    }\n",
       "</style>\n",
       "<table border=\"1\" class=\"dataframe\">\n",
       "  <thead>\n",
       "    <tr style=\"text-align: right;\">\n",
       "      <th></th>\n",
       "      <th>time</th>\n",
       "      <th>latitude</th>\n",
       "      <th>longitude</th>\n",
       "      <th>depth</th>\n",
       "      <th>mag</th>\n",
       "      <th>magType</th>\n",
       "      <th>moment tensor</th>\n",
       "    </tr>\n",
       "  </thead>\n",
       "  <tbody>\n",
       "    <tr>\n",
       "      <th>2048</th>\n",
       "      <td>2025-01-02 20:43:38.900</td>\n",
       "      <td>-21.70</td>\n",
       "      <td>-69.05</td>\n",
       "      <td>112.2</td>\n",
       "      <td>6.12</td>\n",
       "      <td>mw</td>\n",
       "      <td>[-1.43e+18, -3.46e+17, -1.78e+18, -1.63e+17, 6...</td>\n",
       "    </tr>\n",
       "    <tr>\n",
       "      <th>2049</th>\n",
       "      <td>2025-01-01 13:48:30.100</td>\n",
       "      <td>-56.44</td>\n",
       "      <td>-26.49</td>\n",
       "      <td>82.2</td>\n",
       "      <td>6.21</td>\n",
       "      <td>mw</td>\n",
       "      <td>[1.56e+17, 2.13e+18, 2.2900000000000003e+18, -...</td>\n",
       "    </tr>\n",
       "  </tbody>\n",
       "</table>\n",
       "</div>"
      ],
      "text/plain": [
       "                        time  latitude  longitude  depth   mag magType  \\\n",
       "2048 2025-01-02 20:43:38.900    -21.70     -69.05  112.2  6.12      mw   \n",
       "2049 2025-01-01 13:48:30.100    -56.44     -26.49   82.2  6.21      mw   \n",
       "\n",
       "                                          moment tensor  \n",
       "2048  [-1.43e+18, -3.46e+17, -1.78e+18, -1.63e+17, 6...  \n",
       "2049  [1.56e+17, 2.13e+18, 2.2900000000000003e+18, -...  "
      ]
     },
     "execution_count": 12,
     "metadata": {},
     "output_type": "execute_result"
    }
   ],
   "source": [
    "cat = quakeml_to_dataframe(CATALOG_FILE)\n",
    "cat.tail(2)"
   ]
  },
  {
   "cell_type": "markdown",
   "id": "4747ade8-ae93-4cf2-a996-282a7a4e85a4",
   "metadata": {},
   "source": [
    "### Reading station"
   ]
  },
  {
   "cell_type": "code",
   "execution_count": 14,
   "id": "3f8d55cd-c32e-48dc-a5fa-d249eb0d8583",
   "metadata": {},
   "outputs": [],
   "source": [
    "STATIONS_xml = sorted(glob.glob(XML_DIR+'*'))[0]"
   ]
  },
  {
   "cell_type": "code",
   "execution_count": 15,
   "id": "1a4eb8bf-7618-4643-987f-deb4973dffa2",
   "metadata": {},
   "outputs": [
    {
     "data": {
      "text/plain": [
       "'/home/sysop/dados_posdoc/PROJETO_RSBR_15_YEARS/obspyDMT/mvco/XML/US.MVCO.xml'"
      ]
     },
     "execution_count": 15,
     "metadata": {},
     "output_type": "execute_result"
    }
   ],
   "source": [
    "STATIONS_xml"
   ]
  },
  {
   "cell_type": "markdown",
   "id": "28368e53-7a2d-4acd-a368-aef64c5149ed",
   "metadata": {},
   "source": [
    "### Creating input list for one station"
   ]
  },
  {
   "cell_type": "code",
   "execution_count": 8,
   "id": "d6c632f4-5e97-4fcd-b2e8-4cf0a7c39893",
   "metadata": {},
   "outputs": [],
   "source": [
    "input_list = [STATIONS_xml,WAVEFORM_DIR,cat,SSPARQ_OUTPUT]"
   ]
  },
  {
   "cell_type": "markdown",
   "id": "89f4d7ba-5c63-4a6c-8ee7-375587431e15",
   "metadata": {},
   "source": [
    "### Running multiprocessing function given a input list"
   ]
  },
  {
   "cell_type": "code",
   "execution_count": 9,
   "id": "2acc2a0d-5c61-4d83-8cc7-28f7a2c6a441",
   "metadata": {},
   "outputs": [
    {
     "name": "stderr",
     "output_type": "stream",
     "text": [
      "MVCO estimation: 100%|██████████████████████| 2050/2050 [03:31<00:00,  9.69it/s]"
     ]
    },
    {
     "name": "stdout",
     "output_type": "stream",
     "text": [
      "\n",
      "\n",
      "--- 3.53 execution time (min) ---\n",
      "\n",
      "\n"
     ]
    },
    {
     "name": "stderr",
     "output_type": "stream",
     "text": [
      "\n"
     ]
    }
   ],
   "source": [
    "start_time = time.time()\n",
    "\n",
    "calculate_metrics(input_list)\n",
    "\n",
    "print('\\n')\n",
    "print(\"--- %.2f execution time (min) ---\" % ((time.time() - start_time)/60))\n",
    "print('\\n')"
   ]
  },
  {
   "cell_type": "markdown",
   "id": "966c2e6e-3917-409c-8508-acfeb6931036",
   "metadata": {},
   "source": [
    "## Example II: Several stations"
   ]
  },
  {
   "cell_type": "markdown",
   "id": "2d6981a5-84fd-465c-af10-ad1a95ce5c30",
   "metadata": {},
   "source": [
    "### Reading catalog"
   ]
  },
  {
   "cell_type": "code",
   "execution_count": 12,
   "id": "a6e6c9e4-693b-47ab-a8b5-e4c9ea7f06ab",
   "metadata": {},
   "outputs": [
    {
     "data": {
      "text/html": [
       "<div>\n",
       "<style scoped>\n",
       "    .dataframe tbody tr th:only-of-type {\n",
       "        vertical-align: middle;\n",
       "    }\n",
       "\n",
       "    .dataframe tbody tr th {\n",
       "        vertical-align: top;\n",
       "    }\n",
       "\n",
       "    .dataframe thead th {\n",
       "        text-align: right;\n",
       "    }\n",
       "</style>\n",
       "<table border=\"1\" class=\"dataframe\">\n",
       "  <thead>\n",
       "    <tr style=\"text-align: right;\">\n",
       "      <th></th>\n",
       "      <th>time</th>\n",
       "      <th>latitude</th>\n",
       "      <th>longitude</th>\n",
       "      <th>depth</th>\n",
       "      <th>mag</th>\n",
       "      <th>magType</th>\n",
       "      <th>moment tensor</th>\n",
       "    </tr>\n",
       "  </thead>\n",
       "  <tbody>\n",
       "    <tr>\n",
       "      <th>2048</th>\n",
       "      <td>2025-01-02 20:43:38.900</td>\n",
       "      <td>-21.70</td>\n",
       "      <td>-69.05</td>\n",
       "      <td>112.2</td>\n",
       "      <td>6.12</td>\n",
       "      <td>mw</td>\n",
       "      <td>[-1.43e+18, -3.46e+17, -1.78e+18, -1.63e+17, 6...</td>\n",
       "    </tr>\n",
       "    <tr>\n",
       "      <th>2049</th>\n",
       "      <td>2025-01-01 13:48:30.100</td>\n",
       "      <td>-56.44</td>\n",
       "      <td>-26.49</td>\n",
       "      <td>82.2</td>\n",
       "      <td>6.21</td>\n",
       "      <td>mw</td>\n",
       "      <td>[1.56e+17, 2.13e+18, 2.2900000000000003e+18, -...</td>\n",
       "    </tr>\n",
       "  </tbody>\n",
       "</table>\n",
       "</div>"
      ],
      "text/plain": [
       "                        time  latitude  longitude  depth   mag magType  \\\n",
       "2048 2025-01-02 20:43:38.900    -21.70     -69.05  112.2  6.12      mw   \n",
       "2049 2025-01-01 13:48:30.100    -56.44     -26.49   82.2  6.21      mw   \n",
       "\n",
       "                                          moment tensor  \n",
       "2048  [-1.43e+18, -3.46e+17, -1.78e+18, -1.63e+17, 6...  \n",
       "2049  [1.56e+17, 2.13e+18, 2.2900000000000003e+18, -...  "
      ]
     },
     "execution_count": 12,
     "metadata": {},
     "output_type": "execute_result"
    }
   ],
   "source": [
    "cat = quakeml_to_dataframe(CATALOG_FILE)\n",
    "cat.tail(2)"
   ]
  },
  {
   "cell_type": "markdown",
   "id": "79face62-c6f5-4f82-9868-9934273801ad",
   "metadata": {},
   "source": [
    "### Reading station"
   ]
  },
  {
   "cell_type": "code",
   "execution_count": 14,
   "id": "5639c8aa-a4bf-48ae-aded-87182b52a014",
   "metadata": {},
   "outputs": [],
   "source": [
    "STATIONS_xml = sorted(glob.glob(XML_DIR+'*'))[0]"
   ]
  },
  {
   "cell_type": "code",
   "execution_count": 15,
   "id": "8263b622-06e4-4f62-893a-a6741a6f25a1",
   "metadata": {},
   "outputs": [
    {
     "data": {
      "text/plain": [
       "'/home/sysop/dados_posdoc/PROJETO_RSBR_15_YEARS/obspyDMT/mvco/XML/US.MVCO.xml'"
      ]
     },
     "execution_count": 15,
     "metadata": {},
     "output_type": "execute_result"
    }
   ],
   "source": [
    "STATIONS_xml"
   ]
  },
  {
   "cell_type": "markdown",
   "id": "e1d628f9-337b-4bac-a88b-eaaa1a59f1d7",
   "metadata": {},
   "source": [
    "### Creating input list for one station"
   ]
  },
  {
   "cell_type": "code",
   "execution_count": 8,
   "id": "ab57a8ee-5131-4fba-b02a-ad5cc8d89325",
   "metadata": {},
   "outputs": [],
   "source": [
    "input_list = [STATIONS_xml,WAVEFORM_DIR,cat,SSPARQ_OUTPUT]"
   ]
  },
  {
   "cell_type": "markdown",
   "id": "f32f73a7-3ff0-4e5a-a3f9-56a47ebf75ec",
   "metadata": {},
   "source": [
    "### Running multiprocessing function given a input list"
   ]
  },
  {
   "cell_type": "code",
   "execution_count": 9,
   "id": "d0f065f1-e0ef-4582-ad27-0d02e998e879",
   "metadata": {},
   "outputs": [
    {
     "name": "stderr",
     "output_type": "stream",
     "text": [
      "MVCO estimation: 100%|██████████████████████| 2050/2050 [03:31<00:00,  9.69it/s]"
     ]
    },
    {
     "name": "stdout",
     "output_type": "stream",
     "text": [
      "\n",
      "\n",
      "--- 3.53 execution time (min) ---\n",
      "\n",
      "\n"
     ]
    },
    {
     "name": "stderr",
     "output_type": "stream",
     "text": [
      "\n"
     ]
    }
   ],
   "source": [
    "start_time = time.time()\n",
    "\n",
    "calculate_metrics(input_list)\n",
    "\n",
    "print('\\n')\n",
    "print(\"--- %.2f execution time (min) ---\" % ((time.time() - start_time)/60))\n",
    "print('\\n')"
   ]
  }
 ],
 "metadata": {
  "kernelspec": {
   "display_name": "Python 3 (ipykernel)",
   "language": "python",
   "name": "python3"
  },
  "language_info": {
   "codemirror_mode": {
    "name": "ipython",
    "version": 3
   },
   "file_extension": ".py",
   "mimetype": "text/x-python",
   "name": "python",
   "nbconvert_exporter": "python",
   "pygments_lexer": "ipython3",
   "version": "3.12.2"
  }
 },
 "nbformat": 4,
 "nbformat_minor": 5
}
