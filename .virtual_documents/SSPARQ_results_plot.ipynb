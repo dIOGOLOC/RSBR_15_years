


import glob
from multiprocessing import Pool
import time
from tqdm import tqdm





from parameters_py.config import (
					WAVEFORM_DIR,CATALOG_FILE,XML_DIR,SSPARQ_OUTPUT,num_processes
				   )





from src.analysis import (
					aic_simple,find_orientation,Braunmiller_Pornsopin_algorithm,calculate_metrics
				   )

from src.utils import (
					quakeml_to_dataframe,moment_tensor_to_nodal_planes,calculate_plunge,mecclass,adjust_baz_for_ZEN,rms,energy
				   )








STATIONS_xml = sorted(glob.glob(XML_DIR+'*'))
STATIONS_xml = STATIONS_xml

STATIONS_lst = [i.split('/')[-1].split('.xml')[0] for i in STATIONS_xml]

print('Number of stations:',len(STATIONS_lst))





start_time = time.time()

calculate_metrics(input_list)

print('\n')
print("--- %.2f execution time (min) ---" % ((time.time() - start_time)/60))
print('\n')
