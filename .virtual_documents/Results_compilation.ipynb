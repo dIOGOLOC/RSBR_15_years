from dataclasses import dataclass
import time
from tqdm import tqdm
from multiprocessing import Pool
from sklearn import preprocessing

import matplotlib.pyplot as plt
import matplotlib.path as mpath
from matplotlib import cm
from mpl_toolkits.axes_grid1.inset_locator import inset_axes
from matplotlib.ticker import MultipleLocator, FormatStrFormatter,FuncFormatter
from matplotlib.dates import YearLocator, MonthLocator, DayLocator, HourLocator, MinuteLocator, SecondLocator, DateFormatter
import matplotlib.dates as mdates
import matplotlib.gridspec as gridspec
from matplotlib.legend_handler import HandlerPathCollection

import cartopy.crs as ccrs
import cartopy.feature as cfeature

import obspy as op
from obspy import read,read_inventory, UTCDateTime, Stream, Trace
from obspy.clients.fdsn.client import Client
from obspy.signal.rotate import rotate_ne_rt
from obspy.geodetics import gps2dist_azimuth,kilometers2degrees
from obspy.taup import TauPyModel

import json
import glob
import os
import numpy as np
from itertools import combinations
import pandas as pd
from scipy.signal import spectrogram, detrend, resample,savgol_filter,decimate,hilbert
from scipy.stats import circmean, circstd,gaussian_kde
from kneed import KneeLocator

import pyarrow.feather as feather

import datetime

from sklearn.linear_model import LinearRegression,HuberRegressor,TheilSenRegressor
from sklearn.cluster import DBSCAN
from sklearn.preprocessing import MinMaxScaler,StandardScaler,RobustScaler
from sklearn.metrics import silhouette_score


# ===========
# DIRECTORIES
# ===========

## ------------------------
## Directory of the catalog (.CSV file of the National Earthquake Information Center (NEIC))
## The file layout is defined as:
## time,latitude,longitude,depth,mag,magType,nst,gap,dmin,rms,net,id,updated,place,type,horizontalError,depthError,magError,magNst,status,locationSource,magSource

XML_DIR = '/home/sysop/dados_posdoc/PROJETO_RSBR_15_YEARS/XML/'

## -----------------------
## Directory of the output (Figures and Feathers file)

ORIENTATION_OUTPUT = '/home/sysop/dados_posdoc/PROJETO_RSBR_15_YEARS/OUTPUT/'

# ==========
# PARAMETERS
# ==========

## -------------------------------------------------------------------
## Apply band-pass filtering to the seismograms using the range above:

PERIOD_BANDS = [0.02,0.5]

## ===================================================================================
## Default parameters to define the signal and noise windows used to estimate the SNR:

## ------------------------------------------------------------------------------
## Duration of the signal window before and after the P-wave arrival (in seconds)

TIME_WINDOW = 60

## -----------------------------------------------------------------------------
## Start time of the P-wave window for events (in seconds before P-wave arrival)

TIME_START_P_REGIONAL = 3

## -----------------------------------------------------------------------------------
## End time of the P-wave window for regional events (in seconds after P-wave arrival)

TIME_FINAL_P_REGIONAL = 12

## ---------------------------------------------
## Minimum earthquake magnitude to be considered

minmagnitude = 6

## -------------------------------------------------------------------------------------
## Minimum and maximum epicentral distance in degrees (GCARC: great-circle arc distance)

GCARC_MIN = 5
GCARC_MAX = 100

## -----------------
## Region parameters

LLCRNRLON_LARGE = -50
URCRNRLON_LARGE = -38
LLCRNRLAT_LARGE = -30
URCRNRLAT_LARGE = -12

## ---------
## Constants

ONEDAY = datetime.timedelta(days=1)

## ---------------
## MULTIPROCESSING

num_processes = 20

## --------------------------------------
## Generate a figure for each estimation?

VERBOSE = True


# Formatar os rótulos do eixo Y para exibir o símbolo de graus
def format_y_ticks(value, _):
    return f"{value:.0f}°"


colnames = ['network', 'station', 'stla', 'stlo', 'evname', 'evla', 'evlo','evtime', 'evmag', 'evtype', 'evdp', 'distance', 'gcarc', 'baz','SNR', 'phi', 'theta','clock_error', 'quality', 'gain_HHN', 'gain_HHE', 'gain_HHZ','event_class']


STATION_LST = sorted([i.split('/')[-1].split('.')[:2] for i in glob.glob(XML_DIR+'BR.*')])


STATION_LST


plt.rcParams.update({'font.size': 14})  # Define o tamanho global da fonte

for net_sta in tqdm(STATION_LST, total=len(STATION_LST), desc='Station'):

    net = net_sta[0]
    sta = net_sta[1]

    colnames = ['network', 'station','evtime','SNR', 'phi', 'theta','clock_error', 'quality', 'gain_HHN', 'gain_HHE', 'gain_HHZ','event_class']
    
    feather_files_lst = [pd.read_feather(i,columns=colnames) for i in glob.glob(ORIENTATION_OUTPUT+'FEATHER_FILES/*/*'+sta+'*/*')]
    
    station_df = pd.concat(feather_files_lst)
    station_df['year_month'] = station_df['evtime'].dt.to_period('M').astype(str)
    station_df['year_month'] = pd.to_datetime(station_df['year_month'], format='%Y-%m').dt.to_period('M')
    
    df_sta = station_df[station_df['station'] == sta].copy()

    if len(df_sta) > 50:
    
        # ================================= #
        # START: DBSCAN clusters estimation #
        # ================================= #
        
        # ------------------------------------
        # Data
    
        orientations_all_good = df_sta[df_sta['quality'] == 'good']['theta'].values # Orientations
        time_all_good = df_sta[df_sta['quality'] == 'good']['evtime'].values  # Time in datetime
        time_all_stamp = df_sta[df_sta['quality'] == 'good']['evtime'].apply(lambda x: int(x.timestamp()))  # Time in Timestamp
    
        # ------------------------------------
        # This Scaler removes the median and scales the data according to the quantile range (defaults to IQR: Interquartile Range). 
        # The IQR is the range between the 1st quartile (25th quantile) and the 3rd quartile (75th quantile).
    
        data_all = np.array([time_all_stamp,orientations_all_good]).T
        scaler = RobustScaler()
        scaler.fit(data_all)
        data_scale = scaler.transform(data_all)
    
        # The size of the radius is specified by the distance threshold parameter (epsilon)
        
        eps_range = np.arange(0.23,0.28,0.005)
        per_samples = 20
                
        # -----------------------------
        # Silhouette DBSCAN estimation
        
        eps_lst = []
        silhouette_score_lst = []
    
        for n_eps in tqdm(eps_range,total=len(eps_range),desc='Elbow Method',position=0,leave=False):
            try:
                clustering = DBSCAN(eps=round(n_eps,2), min_samples=len(orientations_all_good)//per_samples).fit(data_scale)
                ss = silhouette_score(data_scale, clustering.fit_predict(data_scale))
                
                eps_lst.append(n_eps)
                silhouette_score_lst.append(ss)
            except:
                pass 
    
        # ------------------------------------    
        # Elbow DBSCAN estimation
        kn = KneeLocator(eps_lst, silhouette_score_lst, curve='concave',polynomial_degree=3,S=5)
        elbow_point = kn.knee
    
        if not elbow_point:
            kn = KneeLocator(eps_lst, silhouette_score_lst, curve='concave',polynomial_degree=3)
            elbow_point = kn.knee


        silhouette_score = silhouette_score_lst[eps_lst.index(elbow_point)]

        if silhouette_score > 0.2:
            # ------------------------------------
            # Elbow DBSCAN plot
                                
            fig_elb, ax_elb = plt.subplots(figsize=(10,5))
                                
            ax_elb.annotate(str(elbow_point), xy=(elbow_point,silhouette_score_lst[eps_lst.index(elbow_point)]), xytext=(elbow_point+(elbow_point*0.1),silhouette_score_lst[eps_lst.index(elbow_point)]+(silhouette_score_lst[eps_lst.index(elbow_point)]*0.1)),arrowprops=dict(arrowstyle='<-',linewidth=1,color='black'))
            ax_elb.scatter(elbow_point,silhouette_score_lst[eps_lst.index(elbow_point)],color='k', marker='X',s=100)
            ax_elb.plot(eps_lst,silhouette_score_lst,color='grey', marker='o', linestyle='dashed',linewidth=2, markersize=5,zorder=-1)
            ax_elb.set_title('Elbow KMeans estimation: '+net+'_'+sta)
                                
            # Set ticks and labels on both sides of the y-axis
            ax_elb.set_ylabel('Silhouette')
            ax_elb.set_xlabel('Epsilon')
        
            # ------------------------
            # DBSCAN clustering result
            
            clustering = DBSCAN(eps=round(elbow_point,2), min_samples=len(orientations_all_good)//per_samples).fit(data_scale)
        
            df_sta['DBSCAN'] = -10  # standart value
            df_sta.loc[df_sta['quality'] == 'good', 'DBSCAN'] = clustering.labels_   
        
            # =============================== #
            # END: DBSCAN clusters estimation #
            # =============================== #
        
            # Cria o range de meses como Periods e converte para datetime (timestamp)
            years = pd.period_range(start=df_sta['year_month'].min(), end=df_sta['year_month'].max(), freq='M')
            
            fig = plt.figure(figsize=(10, 10))
            gs = gridspec.GridSpec(2, 2, width_ratios=[10, 1], height_ratios=[10, 1],hspace=0.05, wspace=0.05)
        
            # Definindo os eixos
            ax1 = fig.add_subplot(gs[0, 0])  # Orientatio axis
            ax2 = fig.add_subplot(gs[1, 0],sharex=ax1)  # Number of events
            ax3 = fig.add_subplot(gs[0, 1],sharey=ax1)  # KDE
        
            for ye in years:
                # Filtering according to Period (year_month)
                df_sta_year = df_sta[df_sta['year_month'] == ye]
        
                ye_num = mdates.date2num(ye)  # converte timestamp para número
                
                label_handles = []
                if df_sta_year[df_sta_year['quality'] == 'good']['theta'].empty:
                    orientations_bad = df_sta_year[df_sta_year['quality'] == 'bad']['theta'].values
                    snr_bad = df_sta_year[df_sta_year['quality'] == 'bad']['SNR'].abs().values
        
                    ax1.scatter([ye_num]*len(orientations_bad), orientations_bad, marker='.', c='gray',s=snr_bad*10, alpha=0.05, ec='k', label='bad')
                    label_handles.append(a)
                    ax2.bar(ye_num, len(orientations_bad), color='gray', width=20, alpha=0.25,zorder=-10)
                else:
                    orientations_good = df_sta_year[df_sta_year['quality'] == 'good']['theta'].values
                    orientations_bad = df_sta_year[df_sta_year['quality'] == 'bad']['theta'].values
                                
                    snr_good = df_sta_year[df_sta_year['quality'] == 'good']['SNR'].abs().values
                    snr_bad = df_sta_year[df_sta_year['quality'] == 'bad']['SNR'].abs().values
        
                    mean_sta = round(circmean(np.radians(orientations_good)), 1)
                    std_sta = round(circstd(np.radians(orientations_good)), 2)
        
                    ax1.scatter([ye_num]*len(orientations_bad), orientations_bad, marker='.', c='gray',s=snr_bad*10, alpha=0.05, ec='k', label='bad')
                    ax1.boxplot(orientations_good, positions=[ye_num], sym='', showmeans=False, widths=20, bootstrap=10000)
                    
                    ax2.bar(ye_num, len(orientations_bad), color='gray', width=20, alpha=0.25,zorder=-9)
        
                    unique_labels = list(set(clustering.labels_))
                    colors = [plt.cm.magma_r(each) for each in np.linspace(0, 1, len(unique_labels))]
                    label_dbscan = ['g'+str(1+i) if i != -1 else 'out' for i in unique_labels]
                    
                    label_dbscan_n = []
                    for uni,col,lab in zip(unique_labels,colors,label_dbscan):
                        orientations_good_cluster = df_sta_year[(df_sta_year['quality'] == 'good') & (df_sta_year['DBSCAN'] == uni)]['theta'].values
                        snr_good_cluster = df_sta_year[(df_sta_year['quality'] == 'good') & (df_sta_year['DBSCAN'] == uni)]['SNR'].abs().values
                        
                        ax1.scatter([ye_num]*len(orientations_good_cluster), orientations_good_cluster, marker='.', color=col,s=snr_good_cluster*10, alpha=0.5, ec='k')
                        print(len(orientations_good_cluster))
                        label_dbscan_n.append(lab+'[n:'+str(round(len(orientations_good_cluster)))+']')
                            
                        ax2.bar(ye_num, len(orientations_good_cluster), color=col, width=10, alpha=0.5,zorder=1)
    
                        if uni != -1:
                            ax1.annotate(f"{round(np.mean(df_sta[(df_sta['quality'] == 'good') & (df_sta['DBSCAN'] == uni)]['theta'].values), 1)}±{abs(round(np.std(df_sta[(df_sta['quality'] == 'good') & (df_sta['DBSCAN'] == uni)]['theta'].values), 1))}°",(pd.to_datetime(df_sta[(df_sta['quality'] == 'good') & (df_sta['DBSCAN'] == uni)]['evtime'].values).mean(), +160),fontsize=10, rotation=0, va='center', ha='center',bbox=dict(boxstyle="round", fc=col, ec='k', alpha=0.25))
                            ax2.bar(ye_num, len(orientations_good_cluster), color=col, width=10,zorder=10)
    
    
            # Personalised handles
            handles = [Line2D([0], [0], marker='o', color='w', label=grupo,markerfacecolor=cor, markersize=8) for grupo, cor in zip(label_dbscan_n, colors)]
            
            kde = gaussian_kde(orientations_all_good)
            x_vals = np.linspace(min(orientations_all_good), max(orientations_all_good), 1000)
            density = kde(x_vals)
                    
            ax3.plot(density,x_vals, '-k')
            ax3.set_xlabel('KDE')
        
            # Ajustes visuais
            ax1.set_ylabel(r'Orientation($\theta$)')
            ax1.set_ylim(-180, 180)
            ax1.yaxis.set_major_locator(MultipleLocator(40))
            ax1.yaxis.set_minor_locator(MultipleLocator(10))
            ax1.yaxis.set_major_formatter(FuncFormatter(format_y_ticks))
            ax1.grid(True)
            ax1.tick_params(axis="x", which='both', labelbottom=False, labeltop=True, rotation=30)
            ax1.tick_params(axis="y", which='both', labelright=False, labelleft=True, left=True, right=True)
            ax1.set_title(f'{net}.{sta}', fontsize=20)
            ax1.xaxis.set_major_formatter(mdates.DateFormatter('%Y-%m'))
            ax1.xaxis.set_major_locator(mdates.MonthLocator(interval=12))
            ax1.xaxis.set_minor_locator(mdates.MonthLocator(interval=1))
            ax1.legend(handles=handles,loc='lower right')
            
            ax2.yaxis.set_major_locator(MultipleLocator(5))
            ax2.tick_params(axis="x", which='both', labelbottom=True, labeltop=False, rotation=30)
            ax2.tick_params(axis="y", which='both', labelright=True, labelleft=True, left=True, right=True)
            ax2.set_ylim(0, 20)
            ax2.set_ylabel("n")
            ax2.grid(True)
            ax2.xaxis.set_major_formatter(mdates.DateFormatter('%Y-%m'))
            ax2.xaxis.set_major_locator(mdates.MonthLocator(interval=12))
            ax2.xaxis.set_minor_locator(mdates.MonthLocator(interval=1))
        
            ax3.xaxis.set_label_position('top')
            ax3.yaxis.set_major_formatter(FuncFormatter(format_y_ticks))
            ax3.tick_params(axis="x", which='both', labelbottom=False, labeltop=False, rotation=30)
            ax3.tick_params(axis="y", which='both', labelright=True, labelleft=False,labelbottom=False, labeltop=False, left=True, right=True,top=False, bottom=False)
            ax3.grid(True)
        
            # Salvando a figura
            output_figure_ORIENTATION = ORIENTATION_OUTPUT + 'ORIENTATION_FIGURES/FINAL_RESULT/'
            os.makedirs(output_figure_ORIENTATION, exist_ok=True)
            fig.savefig(output_figure_ORIENTATION + f'ORIENTATION_TOTAL_{sta}.png', dpi=300)
            plt.close()
        
        else:
            
            # ------------------------------------
            # NO Elbow DBSCAN plot
  
            # ------------------------
            # DBSCAN clustering result
                    
            df_sta['DBSCAN'] = -10  # standart value
        
            # Creating mounth range datetime (timestamp) Periods
            years = pd.period_range(start=df_sta['year_month'].min(), end=df_sta['year_month'].max(), freq='M')
            
            fig = plt.figure(figsize=(10, 10))
            gs = gridspec.GridSpec(2, 2, width_ratios=[10, 1], height_ratios=[10, 1],hspace=0.05, wspace=0.05)
        
            # Defining axis
            ax1 = fig.add_subplot(gs[0, 0])  # Orientation axis
            ax2 = fig.add_subplot(gs[1, 0],sharex=ax1)  # Number of events
            ax3 = fig.add_subplot(gs[0, 1],sharey=ax1)  # KDE
        
            for ye in years:
                # Filtering according to Period (year_month)
                df_sta_year = df_sta[df_sta['year_month'] == ye]
        
                ye_num = mdates.date2num(ye)  # converte timestamp para número
                
                label_handles = []
                if df_sta_year[df_sta_year['quality'] == 'good']['theta'].empty:
                    orientations_bad = df_sta_year[df_sta_year['quality'] == 'bad']['theta'].values
                    snr_bad = df_sta_year[df_sta_year['quality'] == 'bad']['SNR'].abs().values
        
                    ax1.scatter([ye_num]*len(orientations_bad), orientations_bad, marker='.', c='gray',s=snr_bad*10, alpha=0.05, ec='k', label='out')
                    ax2.bar(ye_num, len(orientations_bad), color='gray', width=20, alpha=0.25,zorder=-10)

                    label_handles.append('out[n:'+str(round(len(orientations_bad)))+']')

                else:
                    orientations_good = df_sta_year[df_sta_year['quality'] == 'good']['theta'].values
                    orientations_bad = df_sta_year[df_sta_year['quality'] == 'bad']['theta'].values
                                
                    snr_good = df_sta_year[df_sta_year['quality'] == 'good']['SNR'].abs().values
                    snr_bad = df_sta_year[df_sta_year['quality'] == 'bad']['SNR'].abs().values
        
                    mean_sta = round(circmean(np.radians(orientations_good)), 1)
                    std_sta = round(circstd(np.radians(orientations_good)), 2)

                    # Bad orientations
        
                    ax1.scatter([ye_num]*len(orientations_bad), orientations_bad, marker='.', c='gray',s=snr_bad*10, alpha=0.05, ec='k', label='out')
                    ax1.boxplot(orientations_good, positions=[ye_num], sym='', showmeans=False, widths=20, bootstrap=10000)
                    
                    ax2.bar(ye_num, len(orientations_bad), color='gray', width=20, alpha=0.25,zorder=-9)

                    # Good orientations
        
                    ax1.scatter([ye_num]*len(orientations_good), orientations_good, marker='.', c='y',s=snr_good*10, alpha=0.75, ec='k', label='good')
                    ax1.boxplot(orientations_good, positions=[ye_num], sym='', showmeans=False, widths=20, bootstrap=10000)
                    
                    ax2.bar(ye_num, len(orientations_good), color='y', width=10, alpha=0.75,zorder=1)
                    
                    label_handles.append('g1[n:'+str(round(len(orientations_good)))+']')

            colors = ['gray','k']
            # Personalised handles
            handles = [Line2D([0], [0], marker='o', color='w', label=grupo,markerfacecolor=cor, markersize=8) for grupo, cor in zip(label_handles, colors)]
            
            kde = gaussian_kde(orientations_all_good)
            x_vals = np.linspace(min(orientations_all_good), max(orientations_all_good), 1000)
            density = kde(x_vals)
                    
            ax3.plot(density,x_vals, '-k')
            ax3.set_xlabel('KDE')
        
            # Ajustes visuais
            ax1.set_ylabel(r'Orientation($\theta$)')
            ax1.set_ylim(-180, 180)
            ax1.yaxis.set_major_locator(MultipleLocator(40))
            ax1.yaxis.set_minor_locator(MultipleLocator(10))
            ax1.yaxis.set_major_formatter(FuncFormatter(format_y_ticks))
            ax1.grid(True)
            ax1.tick_params(axis="x", which='both', labelbottom=False, labeltop=True, rotation=30)
            ax1.tick_params(axis="y", which='both', labelright=False, labelleft=True, left=True, right=True)
            ax1.set_title(f'{net}.{sta}', fontsize=20)
            ax1.xaxis.set_major_formatter(mdates.DateFormatter('%Y-%m'))
            ax1.xaxis.set_major_locator(mdates.MonthLocator(interval=12))
            ax1.xaxis.set_minor_locator(mdates.MonthLocator(interval=1))
            ax1.legend(handles=handles,loc='lower right')
            
            ax2.yaxis.set_major_locator(MultipleLocator(5))
            ax2.tick_params(axis="x", which='both', labelbottom=True, labeltop=False, rotation=30)
            ax2.tick_params(axis="y", which='both', labelright=True, labelleft=True, left=True, right=True)
            ax2.set_ylim(0, 20)
            ax2.set_ylabel("n")
            ax2.grid(True)
            ax2.xaxis.set_major_formatter(mdates.DateFormatter('%Y-%m'))
            ax2.xaxis.set_major_locator(mdates.MonthLocator(interval=12))
            ax2.xaxis.set_minor_locator(mdates.MonthLocator(interval=1))
        
            ax3.xaxis.set_label_position('top')
            ax3.yaxis.set_major_formatter(FuncFormatter(format_y_ticks))
            ax3.tick_params(axis="x", which='both', labelbottom=False, labeltop=False, rotation=30)
            ax3.tick_params(axis="y", which='both', labelright=True, labelleft=False,labelbottom=False, labeltop=False, left=True, right=True,top=False, bottom=False)
            ax3.grid(True)
        
            # Salvando a figura
            output_figure_ORIENTATION = ORIENTATION_OUTPUT + 'ORIENTATION_FIGURES/FINAL_RESULT/'
            os.makedirs(output_figure_ORIENTATION, exist_ok=True)
            fig.savefig(output_figure_ORIENTATION + f'ORIENTATION_TOTAL_{sta}.png', dpi=300)
            #plt.close()
            plt.show()
    else:
        print('station:',sta,'tamanho:',len(df_sta))



plt.rcParams.update({'font.size': 14})  # Define o tamanho global da fonte

for sta in tqdm(STATION_LST, total=len(STATION_LST), desc='Station'):
    df_sta = station_df[station_df['station'] == sta].copy()
    net = df_sta['network'].unique().tolist()[0]

    # Cria o range de meses como Periods e converte para datetime (timestamp)
    years = pd.period_range(start=df_sta['year_month'].min(), end=df_sta['year_month'].max(), freq='M')

    # Criação da figura
    fig = plt.figure(figsize=(10, 10))
    gs = gridspec.GridSpec(2, 1, height_ratios=[10, 1], hspace=0.01)

    ax1 = fig.add_subplot(gs[0])  # orientações
    ax2 = fig.add_subplot(gs[1], sharex=ax1)  # número de eventos

    for ye in years:
        # Converte para Period para filtrar
        df_sta_year = df_sta[df_sta['year_month'] == ye]

        ye_num = mdates.date2num(ye)  # converte timestamp para número

        if df_sta_year[df_sta_year['quality'] == 'good']['theta'].empty:
            orientations_bad = df_sta_year[df_sta_year['quality'] == 'bad']['clock_error'].values
            snr_bad = df_sta_year[df_sta_year['quality'] == 'bad']['SNR'].abs().values

            a = ax1.scatter([ye_num]*len(orientations_bad), orientations_bad, marker='.', c='gray',s=snr_bad*10, alpha=0.05, ec='k', label='bad')
            ax2.bar(ye_num, len(orientations_bad), color='gray', width=20, alpha=0.5)
        else:
            orientations_good = df_sta_year[df_sta_year['quality'] == 'good']['clock_error'].values
            orientations_bad = df_sta_year[df_sta_year['quality'] == 'bad']['clock_error'].values
            snr_good = df_sta_year[df_sta_year['quality'] == 'good']['SNR'].abs().values
            snr_bad = df_sta_year[df_sta_year['quality'] == 'bad']['SNR'].abs().values

            mean_sta = round(np.mean(orientations_good), 1)
            std_sta = round(np.std(orientations_good), 2)

            ax1.scatter([ye_num]*len(orientations_bad), orientations_bad, marker='.', c='gray',s=snr_bad*10, alpha=0.05, ec='k', label='bad')
            b = ax1.scatter([ye_num]*len(orientations_good), orientations_good, marker='.', c='k',s=snr_good*10, alpha=0.5, ec='k', label='good')

            ax1.boxplot(orientations_good, positions=[ye_num], sym='', showmeans=False, widths=20, bootstrap=10000)

            ax2.bar(ye_num, len(orientations_bad), color='gray', width=20, alpha=0.5)
            ax2.bar(ye_num, len(orientations_good), color='k', edgecolor='k', width=10)

    ax1.set_ylabel('Clock error (s)')
    ax1.set_xlabel('YYYY-MM')
    ax1.set_ylim(-100,100)
    
    ax1.yaxis.set_major_locator(MultipleLocator(20))
    ax1.yaxis.set_minor_locator(MultipleLocator(10))
    ax1.grid(True)
    ax1.tick_params(axis="x", which='both', labelbottom=False, labeltop=True, rotation=30)
    ax1.tick_params(axis="y", which='both', labelright=True, labelleft=True, left=True, right=True)
    ax1.set_title(f'{net}.{sta}', fontsize=20)
    ax1.legend(handles=[a,b])

    ax1.xaxis.set_major_formatter(mdates.DateFormatter('%Y-%m'))
    ax1.xaxis.set_major_locator(mdates.MonthLocator(interval=12))
    ax1.xaxis.set_minor_locator(mdates.MonthLocator(interval=1))
    
    ax2.yaxis.set_major_locator(MultipleLocator(5))
    ax2.tick_params(axis="x", which='both', labelbottom=True, labeltop=False, rotation=30)
    ax2.tick_params(axis="y", which='both', labelright=True, labelleft=True, left=True, right=True)
    ax2.set_ylim(0, 20)
    ax2.set_ylabel("n")
    ax2.grid(True)
    ax2.xaxis.set_major_formatter(mdates.DateFormatter('%Y-%m'))
    ax2.xaxis.set_major_locator(mdates.MonthLocator(interval=12))
    ax2.xaxis.set_minor_locator(mdates.MonthLocator(interval=1))

    output_figure_ORIENTATION = ORIENTATION_OUTPUT+'TIMING_FIGURES/FINAL_RESULT/'
    os.makedirs(output_figure_ORIENTATION,exist_ok=True)
    fig.savefig(output_figure_ORIENTATION+'TIMING_TOTAL_'+sta+'.png',dpi=300)
    plt.close()






# Criar o semestre como 1 (jan-jun) ou 2 (jul-dez)
station_df['semester'] = station_df['evtime'].dt.month.map(lambda m: 1 if m <= 6 else 2)

# Criar coluna final combinando ano e semestre
station_df['year_semester'] = station_df['evtime'].dt.year.astype(str) + '-' + station_df['semester'].astype(str).str.zfill(2)


station_df['year_semester'].head(1)


plt.rcParams.update({'font.size': 12})  # Define o tamanho global da fonte

for sta in tqdm(STATION_LST, total=len(STATION_LST), desc='Station'):
    df_sta = station_df[station_df['station'] == sta].copy()
    net = df_sta['network'].unique().tolist()[0]

    # Cria o range de meses como Periods e converte para datetime (timestamp)
    years = list(range(2010, 2026))  # até 2025
    semesters = ['01', '02']
    
    # Construir todos os semestres no formato 'YYYY-SS'
    semesters_years = [f"{year}-{semester}" for year in years for semester in semesters]

    semestre_to_num = {sem: i for i, sem in enumerate(semesters_years)}

    # Criação da figura
    fig = plt.figure(figsize=(10, 10))
    gs = gridspec.GridSpec(2, 1, height_ratios=[10, 1], hspace=0.01)

    ax1 = fig.add_subplot(gs[0])  # orientações
    ax2 = fig.add_subplot(gs[1], sharex=ax1)  # número de eventos

    for ye_num in semesters_years:
        # Converte para Period para filtrar
        df_sta_year = df_sta[df_sta['year_semester'] == ye_num]

        ye_num = semestre_to_num[ye_num]

        if df_sta_year[df_sta_year['quality'] == 'good']['theta'].empty:
            orientations_bad = df_sta_year[df_sta_year['quality'] == 'bad']['theta'].values
            snr_bad = df_sta_year[df_sta_year['quality'] == 'bad']['SNR'].abs().values

            a = ax1.scatter([ye_num]*len(orientations_bad), orientations_bad, marker='.', c='gray',s=snr_bad*10, alpha=0.05, ec='k', label='bad')
            ax2.bar(ye_num, len(orientations_bad), color='gray', width=0.5, alpha=0.5)
        else:
            orientations_good = df_sta_year[df_sta_year['quality'] == 'good']['theta'].values
            orientations_bad = df_sta_year[df_sta_year['quality'] == 'bad']['theta'].values
            snr_good = df_sta_year[df_sta_year['quality'] == 'good']['SNR'].abs().values
            snr_bad = df_sta_year[df_sta_year['quality'] == 'bad']['SNR'].abs().values

            mean_sta = round(circmean(np.radians(orientations_good)), 1)
            std_sta = round(circstd(np.radians(orientations_good)), 2)

            ax1.scatter([ye_num]*len(orientations_bad), orientations_bad, marker='.', c='gray',s=snr_bad*10, alpha=0.05, ec='k', label='bad')
            b = ax1.scatter([ye_num]*len(orientations_good), orientations_good, marker='.', c='k',s=snr_good*10, alpha=0.5, ec='k', label='good')

            ax1.annotate(f'{mean_sta}±{abs(std_sta)}°', (ye_num, 95), fontsize=10, rotation=90,va='center', ha='center',bbox=dict(boxstyle="round", fc="white", ec='k', alpha=0.5))
            ax1.boxplot(orientations_good, positions=[ye_num], sym='', showmeans=False, widths=0.25, bootstrap=10000)

            ax2.bar(ye_num, len(orientations_bad), color='gray', width=0.5, alpha=0.5)
            ax2.bar(ye_num, len(orientations_good), color='k', edgecolor='k', width=0.1)


    # Ajustes visuais
    ax1.set_ylabel(r'Orientation($\theta$)')
    ax1.set_xlabel('YYYY-SS')
    ax1.set_ylim(-180, 180)
    ax1.yaxis.set_major_locator(MultipleLocator(40))
    ax1.yaxis.set_minor_locator(MultipleLocator(10))
    ax1.yaxis.set_major_formatter(FuncFormatter(format_y_ticks))
    ax1.grid(True)

    # Depois de plotar todos, ajustar o eixo X
    ax1.set_xticks(list(semestre_to_num.values()))
    ax1.set_xticklabels(list(semestre_to_num.keys()))
        
    ax1.tick_params(axis="x", which='both', labelbottom=False, labeltop=True, rotation=90)
    ax1.tick_params(axis="y", which='both', labelright=True, labelleft=True, left=True, right=True)
    ax1.set_title(f'{net}.{sta}', fontsize=20)
    ax1.legend(handles=[a,b])

    # Depois de plotar todos, ajustar o eixo X
    ax2.set_xticks(list(semestre_to_num.values()))
    ax2.set_xticklabels(list(semestre_to_num.keys()))
    ax2.yaxis.set_major_locator(MultipleLocator(15))
    ax2.tick_params(axis="x", which='both', labelbottom=True, labeltop=False, rotation=90)
    ax2.tick_params(axis="y", which='both', labelright=True, labelleft=True, left=True, right=True)
    ax2.set_ylim(0, 50)
    ax2.set_ylabel("n")
    ax2.grid(True)

    # Salvando a figura
    output_figure_ORIENTATION = ORIENTATION_OUTPUT + 'ORIENTATION_FIGURES/FINAL_RESULT/'
    os.makedirs(output_figure_ORIENTATION, exist_ok=True)
    fig.savefig(output_figure_ORIENTATION + f'ORIENTATION_TOTAL_{sta}.png', dpi=300)
    plt.close()



plt.rcParams.update({'font.size': 12})  # Define o tamanho global da fonte

for sta in tqdm(STATION_LST, total=len(STATION_LST), desc='Station'):
    df_sta = station_df[station_df['station'] == sta].copy()
    net = df_sta['network'].unique().tolist()[0]

    # Cria o range de meses como Periods e converte para datetime (timestamp)
    years = list(range(2010, 2026))  # até 2025
    semesters = ['01', '02']
    
    # Construir todos os semestres no formato 'YYYY-SS'
    semesters_years = [f"{year}-{semester}" for year in years for semester in semesters]

    semestre_to_num = {sem: i for i, sem in enumerate(semesters_years)}

    # Criação da figura
    fig = plt.figure(figsize=(10, 10))
    gs = gridspec.GridSpec(2, 1, height_ratios=[10, 1], hspace=0.01)

    ax1 = fig.add_subplot(gs[0])  # orientações
    ax2 = fig.add_subplot(gs[1], sharex=ax1)  # número de eventos

    for ye_num in semesters_years:
        # Converte para Period para filtrar
        df_sta_year = df_sta[df_sta['year_semester'] == ye_num]

        ye_num = semestre_to_num[ye_num]

        if df_sta_year[df_sta_year['quality'] == 'good']['theta'].empty:
            orientations_bad = df_sta_year[df_sta_year['quality'] == 'bad']['clock_error'].values
            snr_bad = df_sta_year[df_sta_year['quality'] == 'bad']['SNR'].abs().values

            a = ax1.scatter([ye_num]*len(orientations_bad), orientations_bad, marker='.', c='gray',s=snr_bad*10, alpha=0.05, ec='k', label='bad')
            ax2.bar(ye_num, len(orientations_bad), color='gray', width=0.5, alpha=0.5)
        else:
            orientations_good = df_sta_year[df_sta_year['quality'] == 'good']['clock_error'].values
            orientations_bad = df_sta_year[df_sta_year['quality'] == 'bad']['clock_error'].values
            snr_good = df_sta_year[df_sta_year['quality'] == 'good']['SNR'].abs().values
            snr_bad = df_sta_year[df_sta_year['quality'] == 'bad']['SNR'].abs().values

            mean_sta = round(np.mean(orientations_good), 1)
            std_sta = round(np.std(orientations_good), 2)

            
            ax1.scatter([ye_num]*len(orientations_bad), orientations_bad, marker='.', c='gray',s=snr_bad*10, alpha=0.05, ec='k', label='bad')
            b = ax1.scatter([ye_num]*len(orientations_good), orientations_good, marker='.', c='k',s=snr_good*10, alpha=0.5, ec='k', label='good')

            ax1.annotate(f'{mean_sta}±{abs(std_sta)}°', (ye_num, 60), fontsize=10, rotation=90,va='center', ha='center',bbox=dict(boxstyle="round", fc="white", ec='k', alpha=0.5))
            ax1.boxplot(orientations_good, positions=[ye_num], sym='', showmeans=False, widths=0.25, bootstrap=10000)

            ax2.bar(ye_num, len(orientations_bad), color='gray', width=0.5, alpha=0.5)
            ax2.bar(ye_num, len(orientations_good), color='k', edgecolor='k', width=0.1)

    ax1.set_ylabel('Clock error (s)')
    ax1.set_xlabel('YYYY-SS')
    ax1.set_ylim(-110,110)
    ax1.yaxis.set_major_locator(MultipleLocator(20))
    ax1.yaxis.set_minor_locator(MultipleLocator(10))
    ax1.grid(True)
    ax1.tick_params(axis="x", which='both', labelbottom=False, labeltop=True, rotation=90)
    ax1.tick_params(axis="y", which='both', labelright=True, labelleft=True, left=True, right=True)
    ax1.set_title(f'{net}.{sta}', fontsize=20)
    ax1.legend(handles=[a,b])
    
    # Depois de plotar todos, ajustar o eixo X
    ax2.set_xticks(list(semestre_to_num.values()))
    ax2.set_xticklabels(list(semestre_to_num.keys()))
    ax2.yaxis.set_major_locator(MultipleLocator(15))
    ax2.tick_params(axis="x", which='both', labelbottom=True, labeltop=False, rotation=90)
    ax2.tick_params(axis="y", which='both', labelright=True, labelleft=True, left=True, right=True)
    ax2.set_ylim(0, 50)
    ax2.set_ylabel("n")
    ax2.grid(True)

    # Salvando a figura
    output_figure_ORIENTATION = ORIENTATION_OUTPUT+'TIMING_FIGURES/FINAL_RESULT/'
    os.makedirs(output_figure_ORIENTATION,exist_ok=True)
    fig.savefig(output_figure_ORIENTATION+'TIMING_TOTAL_'+sta+'.png',dpi=300)
    plt.close()





# Lista de markers que aceitam edgecolor='k'
markers = ['o', 's', 'D', '^', 'v', '<', '>', 'p', '*', 'h', 'H']

# Lista de cores (você pode personalizar essas cores)
colors = plt.get_cmap('Accent').colors  # Paleta 'tab20' do Matplotlib

# Define o tamanho desejado
tamanho = len(STATION_LST)

# Gera a lista de markers e cores com repetição se necessário
marker_list = [markers[i % len(markers)] for i in range(tamanho)]
color_list = [colors[i % len(colors)] for i in range(tamanho)]


plt.rcParams.update({'font.size': 14})  # Define o tamanho global da fonte

# Criando a figura
fig = plt.figure(figsize=(10, 10))
gs = gridspec.GridSpec(1, 1)
years = np.arange(2013, 2026, 1)

# Eixo 1: Medidas de orientação
ax1 = fig.add_subplot(gs[0])

for ista, sta in enumerate(tqdm(STATION_LST, total=len(STATION_LST), desc='Station')):
    df_sta = station_df[station_df['station'] == sta]

    YEAR_min = min(years)
    YEAR_max = max(years)

    # Flag para adicionar a legenda apenas no primeiro ponto de cada estação
    added_legend = False

    for idx, ye in enumerate(years):
        df_sta_year = df_sta[df_sta['year'] == int(ye)]

        if not df_sta_year[df_sta_year['quality'] == 'good']['theta'].empty:
            orientations_good = df_sta_year[df_sta_year['quality'] == 'good']['theta'].values
            snr_good = df_sta_year[df_sta_year['quality'] == 'good']['SNR'].abs().values

            # Plota com a legenda apenas no primeiro ponto
            ax1.scatter(
                ye, round(circmean(orientations_good, high=360, low=-360),1),
                marker=marker_list[ista], c=color_list[ista],
                s=snr_good.mean() * 10, alpha=0.5,ec='k',
                label=sta if not added_legend else None
            )
            added_legend = True  # Marca que a legenda foi adicionada

# Configurações do eixo
ax1.set_ylabel(r'Orientation($\theta$)')
ax1.set_xlabel('Year')
ax1.set_ylim(-180, 180)
ax1.xaxis.set_major_locator(MultipleLocator(2))
ax1.xaxis.set_minor_locator(MultipleLocator(1))
ax1.yaxis.set_major_locator(MultipleLocator(40))
ax1.yaxis.set_minor_locator(MultipleLocator(10))
ax1.yaxis.set_major_formatter(FuncFormatter(format_y_ticks))
ax1.grid(True)
ax1.tick_params(axis="both", labelbottom=True, labelright=True, labelleft=True, labeltop=True)
ax1.legend(loc='lower right',ncol=int(len(STATION_LST)/4))
ax1.set_title('Orientation Compilation', fontsize=20)

# Salvando a figura
output_figure_ORIENTATION = ORIENTATION_OUTPUT + 'ORIENTATION_FIGURES/FINAL_RESULT/'
os.makedirs(output_figure_ORIENTATION, exist_ok=True)
fig.savefig(output_figure_ORIENTATION + 'ORIENTATION_TOTAL_COMPILATION.png', dpi=300)
plt.close()



plt.rcParams.update({'font.size': 15})  # Define o tamanho global da fonte

# Criando a figura
fig = plt.figure(figsize=(15, 10))
gs = gridspec.GridSpec(1, 1)
years = np.arange(2013, 2026, 1)

# Eixo 1: Medidas de orientação
ax1 = fig.add_subplot(gs[0])
ax1.axhline(y=0, xmin=0, xmax=1,c='k',ls=':',zorder=-10)

for ista, sta in enumerate(tqdm(STATION_LST, total=len(STATION_LST), desc='Station')):
    df_sta = station_df[station_df['station'] == sta]

    YEAR_min = min(years)
    YEAR_max = max(years)

    # Flag para adicionar a legenda apenas no primeiro ponto de cada estação
    added_legend = False

    for idx, ye in enumerate(years):
        df_sta_year = df_sta[df_sta['year'] == int(ye)]

        if not df_sta_year[df_sta_year['quality'] == 'good']['theta'].empty:
            orientations_good = df_sta_year[df_sta_year['quality'] == 'good']['theta'].values
            snr_good = df_sta_year[df_sta_year['quality'] == 'good']['SNR'].abs().values

            # Plota com a legenda apenas no primeiro ponto
            ax1.scatter(
                ye, round(circmean(orientations_good, high=360, low=-360),1),
                marker=marker_list[ista], c=color_list[ista],
                s=snr_good.mean() * 10, alpha=0.75,ec='k',linewidths=2,
                label=sta if not added_legend else None
            )


            added_legend = True  # Marca que a legenda foi adicionada

# Configurações do eixo
ax1.set_ylabel(r'Orientação ($\theta$)',fontsize=20)
ax1.set_xlabel('Ano',fontsize=20)
ax1.set_ylim(-180, 180)
ax1.xaxis.set_major_locator(MultipleLocator(2))
ax1.xaxis.set_minor_locator(MultipleLocator(1))
ax1.yaxis.set_major_locator(MultipleLocator(40))
ax1.yaxis.set_minor_locator(MultipleLocator(10))
ax1.yaxis.set_major_formatter(FuncFormatter(format_y_ticks))
ax1.grid(which='major',linestyle=':')
ax1.tick_params(axis="both", which='both',labelbottom=True, labelright=True, labelleft=True, labeltop=False,bottom=True, top=True, left=True, right=True)
ax1.legend(loc='lower right',ncol=int(len(STATION_LST)/4))
ax1.set_title('Rede RSIS: Avaliação das Orientações', y=1.05,fontsize=25, fontweight='bold')

# Salvando a figura
output_figure_ORIENTATION = ORIENTATION_OUTPUT + 'ORIENTATION_FIGURES/FINAL_RESULT/'
os.makedirs(output_figure_ORIENTATION, exist_ok=True)
fig.savefig(output_figure_ORIENTATION + 'ORIENTATION_TOTAL_COMPILATION.png', dpi=300)
plt.close()




