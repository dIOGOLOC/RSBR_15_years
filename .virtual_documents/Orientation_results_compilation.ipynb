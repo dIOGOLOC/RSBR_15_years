from dataclasses import dataclass
import time
from tqdm import tqdm
from multiprocessing import Pool
from sklearn import preprocessing

import matplotlib.pyplot as plt
import matplotlib.path as mpath
from matplotlib import cm
from mpl_toolkits.axes_grid1.inset_locator import inset_axes
from matplotlib.ticker import MultipleLocator, FormatStrFormatter,FuncFormatter
from matplotlib.dates import YearLocator, MonthLocator, DayLocator, HourLocator, MinuteLocator, SecondLocator, DateFormatter
import matplotlib.dates as mdates
import matplotlib.gridspec as gridspec

import cartopy.crs as ccrs
import cartopy.feature as cfeature

import obspy as op
from obspy import read,read_inventory, UTCDateTime, Stream, Trace
from obspy.clients.fdsn.client import Client
from obspy.signal.rotate import rotate_ne_rt
from obspy.geodetics import gps2dist_azimuth,kilometers2degrees
from obspy.taup import TauPyModel

import json
import glob
import os
import numpy as np
from itertools import combinations
import pandas as pd
from scipy.signal import spectrogram, detrend, resample,savgol_filter,decimate,hilbert
from scipy.stats import circmean, circstd

import pyarrow.feather as feather
import seaborn as sns

import datetime

from sklearn.linear_model import LinearRegression,HuberRegressor,TheilSenRegressor


# ===========
# DIRECTORIES
# ===========

## ------------------------
## Directory of the catalog (.CSV file of the National Earthquake Information Center (NEIC))
## The file layout is defined as:
## time,latitude,longitude,depth,mag,magType,nst,gap,dmin,rms,net,id,updated,place,type,horizontalError,depthError,magError,magNst,status,locationSource,magSource

XML_DIR = '/home/sysop/dados_posdoc/PROJETO_RSBR_15_YEARS/XML/'

## -----------------------
## Directory of the output (Figures and Feathers file)

ORIENTATION_OUTPUT = '/home/sysop/dados_posdoc/PROJETO_RSBR_15_YEARS/OUTPUT/'

# ==========
# PARAMETERS
# ==========

## -------------------------------------------------------------------
## Apply band-pass filtering to the seismograms using the range above:

PERIOD_BANDS = [0.02,0.5]

## ===================================================================================
## Default parameters to define the signal and noise windows used to estimate the SNR:

## ------------------------------------------------------------------------------
## Duration of the signal window before and after the P-wave arrival (in seconds)

TIME_WINDOW = 60

## -----------------------------------------------------------------------------
## Start time of the P-wave window for events (in seconds before P-wave arrival)

TIME_START_P_REGIONAL = 3

## -----------------------------------------------------------------------------------
## End time of the P-wave window for regional events (in seconds after P-wave arrival)

TIME_FINAL_P_REGIONAL = 12

## ---------------------------------------------
## Minimum earthquake magnitude to be considered

minmagnitude = 6

## -------------------------------------------------------------------------------------
## Minimum and maximum epicentral distance in degrees (GCARC: great-circle arc distance)

GCARC_MIN = 5
GCARC_MAX = 100

## -----------------
## Region parameters

LLCRNRLON_LARGE = -50
URCRNRLON_LARGE = -38
LLCRNRLAT_LARGE = -30
URCRNRLAT_LARGE = -12

## ---------
## Constants

ONEDAY = datetime.timedelta(days=1)

## ---------------
## MULTIPROCESSING

num_processes = 20

## --------------------------------------
## Generate a figure for each estimation?

VERBOSE = True


# Input parameters

FIRSTDAY = '2010-01-01'
LASTDAY = '2025-12-31'

# Constants and parameters

ONEDAY = datetime.timedelta(days=1)

# =================
# Filtering by date
# =================

fday = UTCDateTime(FIRSTDAY)
lday = UTCDateTime(LASTDAY)
INTERVAL_PERIOD = [UTCDateTime(x.astype(str)) for x in np.arange(fday.datetime,lday.datetime+ONEDAY,ONEDAY)]
INTERVAL_PERIOD_DATE = [str(x.year)+'.'+"%03d" % x.julday for x in INTERVAL_PERIOD]


# Formatar os rótulos do eixo Y para exibir o símbolo de graus
def format_y_ticks(value, _):
    return f"{value:.0f}°"


FEATHER_FILES_LST = [pd.read_feather(i) for i in glob.glob(ORIENTATION_OUTPUT+'FEATHER_FILES/*/ON.ABR01/*')]


station_df = pd.concat(FEATHER_FILES_LST)
station_df


#station_df['year'] = station_df['evtime'].str.split('.').str[0].astype(int)
station_df['year'] = station_df['evtime'].dt.year


STATION_LST = station_df['station'].unique().tolist()


plt.rcParams.update({'font.size': 14})  # Define o tamanho global da fonte

for sta in tqdm(STATION_LST,total=len(STATION_LST),desc='Station'):
    df_sta = station_df[station_df['station'] == sta]

    YEAR_min = df_sta['year'].min()
    YEAR_max = df_sta['year'].max()

    years = np.arange(df_sta['year'].min(),df_sta['year'].max()+1,1)
   
    #Creating the figure
    fig = plt.figure(figsize=(10, 10))
    gs = gridspec.GridSpec(2, 1,height_ratios=[10,1],hspace=0.01)

    # axis 1: orientation measurements
    ax1 = fig.add_subplot(gs[0])
    
    # axis 2: number of measurements
    ax2 = fig.add_subplot(gs[1],sharex=ax1)
    
    for idx,ye in enumerate(years):

        df_sta_year = df_sta[df_sta['year'] == int(ye)]

        if df_sta_year[df_sta_year['quality'] == 'good']['orient'].empty:
            orientations_bad = df_sta_year[df_sta_year['quality'] == 'bad']['orient'].values
            snr_bad = df_sta_year[df_sta_year['quality'] == 'bad']['SNR'].abs().values

            # statistics
            a = ax1.scatter([ye]*len(orientations_bad),orientations_bad,marker='.',c='gray',s=snr_bad*10,alpha=0.5,ec='k',label='bad')
            
            # Number of events
            ax2.bar(ye, len(df_sta_year[df_sta_year['quality'] == 'bad']['orient']), color='gray',width=0.2,alpha=0.5)
        else:

            orientations_bad = df_sta_year[df_sta_year['quality'] == 'bad']['orient'].values
            orientations_good = df_sta_year[df_sta_year['quality'] == 'good']['orient'].values
            snr_bad = df_sta_year[df_sta_year['quality'] == 'bad']['SNR'].abs().values
            snr_good = df_sta_year[df_sta_year['quality'] == 'good']['SNR'].abs().values

            mean_sta = round(circmean(orientations_good, high=360, low=-360),1)
            std_sta = round(circstd(np.radians(orientations_good)),2)

            # statistics
            a = ax1.scatter([ye]*len(orientations_bad),orientations_bad,marker='.',c='gray',s=snr_bad*10,alpha=0.5,ec='k',label='bad')
            b = ax1.scatter([ye]*len(orientations_good),orientations_good,marker='.',c='k',s=snr_good*10,alpha=0.75,ec='k',label='good')
            ax1.annotate(str(mean_sta)+'$\\pm$'+str(abs(std_sta))+'°', (ye, 95),fontsize=10, rotation=30,va='center',ha='center',bbox=dict(boxstyle="round", fc="white",ec='k',alpha=0.5))
            ax1.boxplot(orientations_good,positions=[ye],sym='',showmeans=False,widths=0.5,bootstrap=10000)
            
            # Number of events
            ax2.bar(ye, len(df_sta_year[df_sta_year['quality'] == 'bad']['orient']), color='gray',width=0.2,alpha=0.5)
            ax2.bar(ye, len(df_sta_year[df_sta_year['quality'] == 'good']['orient']), color='k',edgecolor='k',width=0.1)

    ax1.set_ylabel(r'Orientação($\theta$)')
    ax1.set_xlabel('Ano')
    ax1.set_ylim(-105,105)
    ax1.xaxis.set_major_locator(MultipleLocator(1))
    ax1.yaxis.set_major_locator(MultipleLocator(20))
    ax1.yaxis.set_minor_locator(MultipleLocator(10))   
    ax1.yaxis.set_major_formatter(FuncFormatter(format_y_ticks))
    ax1.grid(True)
    ax1.tick_params(axis="x", labelbottom=False, labeltop=False)
    ax1.set_title(sta,fontsize=20)
    ax1.legend(handles=[a,b])
    
    ax2.set_xticks(years)
    ax2.set_xticklabels(years, ha='right')
    ax2.xaxis.set_major_locator(MultipleLocator(1))
    ax2.yaxis.set_major_locator(MultipleLocator(25))
    ax2.yaxis.set_minor_locator(MultipleLocator(5))
    ax2.set_ylim(0,50)
    ax2.set_ylabel("n")
    ax2.grid(True)

    output_figure_ORIENTATION = ORIENTATION_OUTPUT+'ORIENTATION_FIGURES/FINAL_RESULT/'
    os.makedirs(output_figure_ORIENTATION,exist_ok=True)
    fig.savefig(output_figure_ORIENTATION+'ORIENTATION_TOTAL_'+sta+'.png',dpi=300)
    plt.close()


plt.rcParams.update({'font.size': 14})  # Define o tamanho global da fonte

for sta in tqdm(STATION_LST,total=len(STATION_LST),desc='Station'):
    df_sta = station_df[station_df['station'] == sta]

    YEAR_min = df_sta['year'].min()
    YEAR_max = df_sta['year'].max()

    years = np.arange(df_sta['year'].min(),df_sta['year'].max()+1,1)
   
    #Creating the figure
    fig = plt.figure(figsize=(10, 10))
    gs = gridspec.GridSpec(2, 1,height_ratios=[10,1],hspace=0.01)

    # axis 1: orientation measurements
    ax1 = fig.add_subplot(gs[0])
    
    # axis 2: number of measurements
    ax2 = fig.add_subplot(gs[1],sharex=ax1)
    
    for idx,ye in enumerate(years):

        df_sta_year = df_sta[df_sta['year'] == int(ye)]

        if df_sta_year[df_sta_year['quality'] == 'good']['theta'].empty:
            orientations_bad = df_sta_year[df_sta_year['quality'] == 'bad']['theta'].values
            snr_bad = df_sta_year[df_sta_year['quality'] == 'bad']['SNR'].abs().values

            # statistics
            a = ax1.scatter([ye]*len(orientations_bad),orientations_bad,marker='.',c='gray',s=snr_bad*10,alpha=0.5,ec='k',label='bad')
            
            # Number of events
            ax2.bar(ye, len(df_sta_year[df_sta_year['quality'] == 'bad']['theta']), color='gray',width=0.2,alpha=0.5)
        else:

            orientations_bad = df_sta_year[df_sta_year['quality'] == 'bad']['theta'].values
            orientations_good = df_sta_year[df_sta_year['quality'] == 'good']['theta'].values
            snr_bad = df_sta_year[df_sta_year['quality'] == 'bad']['SNR'].abs().values
            snr_good = df_sta_year[df_sta_year['quality'] == 'good']['SNR'].abs().values

            mean_sta = round(circmean(orientations_good, high=360, low=-360),1)
            std_sta = round(circstd(np.radians(orientations_good)),2)

            # statistics
            a = ax1.scatter([ye]*len(orientations_bad),orientations_bad,marker='.',c='gray',s=snr_bad*10,alpha=0.5,ec='k',label='bad')
            b = ax1.scatter([ye]*len(orientations_good),orientations_good,marker='.',c='k',s=snr_good*10,alpha=0.75,ec='k',label='good')
            ax1.annotate(str(mean_sta)+'$\\pm$'+str(abs(std_sta))+'°', (ye, 95),fontsize=10, rotation=30,va='center',ha='center',bbox=dict(boxstyle="round", fc="white",ec='k',alpha=0.5))
            ax1.boxplot(orientations_good,positions=[ye],sym='',showmeans=False,widths=0.5,bootstrap=10000)
            
            # Number of events
            ax2.bar(ye, len(df_sta_year[df_sta_year['quality'] == 'bad']['theta']), color='gray',width=0.2,alpha=0.5)
            ax2.bar(ye, len(df_sta_year[df_sta_year['quality'] == 'good']['theta']), color='k',edgecolor='k',width=0.1)

    ax1.set_ylabel(r'Orientation($\theta$)')
    ax1.set_xlabel('Year')
    ax1.set_ylim(-180,180)
    ax1.xaxis.set_major_locator(MultipleLocator(1))
    ax1.yaxis.set_major_locator(MultipleLocator(20))
    ax1.yaxis.set_minor_locator(MultipleLocator(10))   
    ax1.yaxis.set_major_formatter(FuncFormatter(format_y_ticks))
    ax1.grid(True)
    ax1.tick_params(axis="x", labelbottom=False, labeltop=True)
    ax1.set_title(sta,fontsize=20)
    ax1.legend(handles=[a,b])
    
    ax2.set_xticks(years)
    ax2.set_xticklabels(years, ha='right')
    ax2.xaxis.set_major_locator(MultipleLocator(1))
    ax2.yaxis.set_major_locator(MultipleLocator(50))
    ax2.set_ylim(0,150)
    ax2.set_ylabel("n")
    ax2.grid(True)

    output_figure_ORIENTATION = ORIENTATION_OUTPUT+'ORIENTATION_FIGURES/FINAL_RESULT/'
    os.makedirs(output_figure_ORIENTATION,exist_ok=True)
    fig.savefig(output_figure_ORIENTATION+'ORIENTATION_TOTAL_'+sta+'.png',dpi=300)
    plt.close()





plt.rcParams.update({'font.size': 14})  # Define o tamanho global da fonte

for sta in tqdm(STATION_LST,total=len(STATION_LST),desc='Station'):
    df_sta = station_df[station_df['station'] == sta]

    YEAR_min = df_sta['year'].min()
    YEAR_max = df_sta['year'].max()

    years = np.arange(df_sta['year'].min(),df_sta['year'].max()+1,1)
   
    #Creating the figure
    fig = plt.figure(figsize=(10, 10))
    gs = gridspec.GridSpec(2, 1,height_ratios=[10,1],hspace=0.01)

    # axis 1: orientation measurements
    ax1 = fig.add_subplot(gs[0])
    
    # axis 2: number of measurements
    ax2 = fig.add_subplot(gs[1],sharex=ax1)
    
    for idx,ye in enumerate(years):

        df_sta_year = df_sta[df_sta['year'] == int(ye)]

        if df_sta_year[df_sta_year['quality'] == 'good']['theta'].empty:
            orientations_bad = df_sta_year[df_sta_year['quality'] == 'bad']['theta'].values
            snr_bad = df_sta_year[df_sta_year['quality'] == 'bad']['SNR'].abs().values

            # statistics
            a = ax1.scatter([ye]*len(orientations_bad),orientations_bad,marker='.',c='gray',s=snr_bad*10,alpha=0.5,ec='k',label='bad')
            
            # Number of events
            ax2.bar(ye, len(df_sta_year[df_sta_year['quality'] == 'bad']['theta']), color='gray',width=0.2,alpha=0.5)
        else:

            orientations_bad = df_sta_year[df_sta_year['quality'] == 'bad']['theta'].values
            orientations_good = df_sta_year[df_sta_year['quality'] == 'good']['theta'].values
            snr_bad = df_sta_year[df_sta_year['quality'] == 'bad']['SNR'].abs().values
            snr_good = df_sta_year[df_sta_year['quality'] == 'good']['SNR'].abs().values

            mean_sta = round(circmean(orientations_good, high=360, low=-360),1)
            std_sta = round(circstd(np.radians(orientations_good)),2)

            # statistics
            a = ax1.scatter([ye]*len(orientations_bad),orientations_bad,marker='.',c='gray',s=snr_bad*10,alpha=0.5,ec='k',label='bad')
            b = ax1.scatter([ye]*len(orientations_good),orientations_good,marker='.',c='k',s=snr_good*10,alpha=0.75,ec='k',label='good')
            ax1.annotate(str(mean_sta)+'$\\pm$'+str(abs(std_sta))+'°', (ye, 95),fontsize=10, rotation=30,va='center',ha='center',bbox=dict(boxstyle="round", fc="white",ec='k',alpha=0.5))
            ax1.boxplot(orientations_good,positions=[ye],sym='',showmeans=False,widths=0.5,bootstrap=10000)
            
            # Number of events
            ax2.bar(ye, len(df_sta_year[df_sta_year['quality'] == 'bad']['theta']), color='gray',width=0.2,alpha=0.5)
            ax2.bar(ye, len(df_sta_year[df_sta_year['quality'] == 'good']['theta']), color='k',edgecolor='k',width=0.1)

    ax1.set_ylabel(r'Orientation($\theta$)')
    ax1.set_xlabel('Year')
    ax1.set_ylim(-180,180)
    ax1.xaxis.set_major_locator(MultipleLocator(1))
    ax1.yaxis.set_major_locator(MultipleLocator(20))
    ax1.yaxis.set_minor_locator(MultipleLocator(10))   
    ax1.yaxis.set_major_formatter(FuncFormatter(format_y_ticks))
    ax1.grid(True)
    ax1.tick_params(axis="x", labelbottom=False, labeltop=True)
    ax1.set_title(sta,fontsize=20)
    ax1.legend(handles=[a,b])
    
    ax2.set_xticks(years)
    ax2.set_xticklabels(years, ha='right')
    ax2.xaxis.set_major_locator(MultipleLocator(1))
    ax2.yaxis.set_major_locator(MultipleLocator(50))
    ax2.set_ylim(0,150)
    ax2.set_ylabel("n")
    ax2.grid(True)

    output_figure_ORIENTATION = ORIENTATION_OUTPUT+'ORIENTATION_FIGURES/FINAL_RESULT/'
    os.makedirs(output_figure_ORIENTATION,exist_ok=True)
    fig.savefig(output_figure_ORIENTATION+'ORIENTATION_TOTAL_'+sta+'.png',dpi=300)
    plt.close()


# Lista de markers que aceitam edgecolor='k'
markers = ['o', 's', 'D', '^', 'v', '<', '>', 'p', '*', 'h', 'H']

# Lista de cores (você pode personalizar essas cores)
colors = plt.get_cmap('Accent').colors  # Paleta 'tab20' do Matplotlib

# Define o tamanho desejado
tamanho = len(STATION_LST)

# Gera a lista de markers e cores com repetição se necessário
marker_list = [markers[i % len(markers)] for i in range(tamanho)]
color_list = [colors[i % len(colors)] for i in range(tamanho)]


plt.rcParams.update({'font.size': 14})  # Define o tamanho global da fonte

# Criando a figura
fig = plt.figure(figsize=(10, 10))
gs = gridspec.GridSpec(1, 1)
years = np.arange(2013, 2026, 1)

# Eixo 1: Medidas de orientação
ax1 = fig.add_subplot(gs[0])

for ista, sta in enumerate(tqdm(STATION_LST, total=len(STATION_LST), desc='Station')):
    df_sta = station_df[station_df['station'] == sta]

    YEAR_min = min(years)
    YEAR_max = max(years)

    # Flag para adicionar a legenda apenas no primeiro ponto de cada estação
    added_legend = False

    for idx, ye in enumerate(years):
        df_sta_year = df_sta[df_sta['year'] == int(ye)]

        if not df_sta_year[df_sta_year['quality'] == 'good']['orient'].empty:
            orientations_good = df_sta_year[df_sta_year['quality'] == 'good']['orient'].values
            snr_good = df_sta_year[df_sta_year['quality'] == 'good']['SNR'].abs().values

            # Plota com a legenda apenas no primeiro ponto
            ax1.scatter(
                ye, round(circmean(orientations_good, high=360, low=-360),1),
                marker=marker_list[ista], c=color_list[ista],
                s=snr_good.mean() * 10, alpha=0.5,ec='k',
                label=sta if not added_legend else None
            )
            added_legend = True  # Marca que a legenda foi adicionada

# Configurações do eixo
ax1.set_ylabel(r'Orientation($\theta$)')
ax1.set_xlabel('Year')
ax1.set_ylim(-180, 180)
ax1.xaxis.set_major_locator(MultipleLocator(2))
ax1.xaxis.set_minor_locator(MultipleLocator(1))
ax1.yaxis.set_major_locator(MultipleLocator(40))
ax1.yaxis.set_minor_locator(MultipleLocator(10))
ax1.yaxis.set_major_formatter(FuncFormatter(format_y_ticks))
ax1.grid(True)
ax1.tick_params(axis="both", labelbottom=True, labelright=True, labelleft=True, labeltop=True)
ax1.legend(loc='lower right',ncol=int(len(STATION_LST)/4))
ax1.set_title('Orientation Compilation', fontsize=20)

# Salvando a figura
output_figure_ORIENTATION = ORIENTATION_OUTPUT + 'ORIENTATION_FIGURES/FINAL_RESULT/'
os.makedirs(output_figure_ORIENTATION, exist_ok=True)
fig.savefig(output_figure_ORIENTATION + 'ORIENTATION_TOTAL_COMPILATION.png', dpi=300)
plt.close()



plt.rcParams.update({'font.size': 15})  # Define o tamanho global da fonte

# Criando a figura
fig = plt.figure(figsize=(15, 10))
gs = gridspec.GridSpec(1, 1)
years = np.arange(2013, 2026, 1)

# Eixo 1: Medidas de orientação
ax1 = fig.add_subplot(gs[0])
ax1.axhline(y=0, xmin=0, xmax=1,c='k',ls=':',zorder=-10)

for ista, sta in enumerate(tqdm(STATION_LST, total=len(STATION_LST), desc='Station')):
    df_sta = station_df[station_df['station'] == sta]

    YEAR_min = min(years)
    YEAR_max = max(years)

    # Flag para adicionar a legenda apenas no primeiro ponto de cada estação
    added_legend = False

    for idx, ye in enumerate(years):
        df_sta_year = df_sta[df_sta['year'] == int(ye)]

        if not df_sta_year[df_sta_year['quality'] == 'good']['orient'].empty:
            orientations_good = df_sta_year[df_sta_year['quality'] == 'good']['orient'].values
            snr_good = df_sta_year[df_sta_year['quality'] == 'good']['SNR'].abs().values

            # Plota com a legenda apenas no primeiro ponto
            ax1.scatter(
                ye, round(circmean(orientations_good, high=360, low=-360),1),
                marker=marker_list[ista], c=color_list[ista],
                s=snr_good.mean() * 10, alpha=0.75,ec='k',linewidths=2,
                label=sta if not added_legend else None
            )


            added_legend = True  # Marca que a legenda foi adicionada

# Configurações do eixo
ax1.set_ylabel(r'Orientação ($\theta$)',fontsize=20)
ax1.set_xlabel('Ano',fontsize=20)
ax1.set_ylim(-180, 180)
ax1.xaxis.set_major_locator(MultipleLocator(2))
ax1.xaxis.set_minor_locator(MultipleLocator(1))
ax1.yaxis.set_major_locator(MultipleLocator(40))
ax1.yaxis.set_minor_locator(MultipleLocator(10))
ax1.yaxis.set_major_formatter(FuncFormatter(format_y_ticks))
ax1.grid(which='major',linestyle=':')
ax1.tick_params(axis="both", which='both',labelbottom=True, labelright=True, labelleft=True, labeltop=False,bottom=True, top=True, left=True, right=True)
ax1.legend(loc='lower right',ncol=int(len(STATION_LST)/4))
ax1.set_title('Rede RSIS: Avaliação das Orientações', y=1.05,fontsize=25, fontweight='bold')

# Salvando a figura
output_figure_ORIENTATION = ORIENTATION_OUTPUT + 'ORIENTATION_FIGURES/FINAL_RESULT/'
os.makedirs(output_figure_ORIENTATION, exist_ok=True)
fig.savefig(output_figure_ORIENTATION + 'ORIENTATION_TOTAL_COMPILATION.png', dpi=300)
plt.close()




